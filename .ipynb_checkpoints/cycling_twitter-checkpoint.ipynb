{
 "cells": [
  {
   "cell_type": "code",
   "execution_count": 22,
   "metadata": {
    "collapsed": true
   },
   "outputs": [],
   "source": [
    "import tweepy"
   ]
  },
  {
   "cell_type": "code",
   "execution_count": 28,
   "metadata": {
    "collapsed": true
   },
   "outputs": [],
   "source": [
    "#read in my credentials\n",
    "with open('twitter.auth', 'r') as f:\n",
    "    consumer_key = f.readline().rstrip('\\n')\n",
    "    consumer_secret = f.readline().rstrip('\\n')\n",
    "    access_token = f.readline().rstrip('\\n')\n",
    "    access_token_secret = f.readline().rstrip('\\n')"
   ]
  },
  {
   "cell_type": "code",
   "execution_count": 30,
   "metadata": {
    "collapsed": false
   },
   "outputs": [],
   "source": [
    "#authenticate and set up tweepy api\n",
    "\n",
    "auth = tweepy.OAuthHandler(consumer_key, consumer_secret)\n",
    "auth.set_access_token(access_token, access_token_secret)\n",
    "\n",
    "api = tweepy.API(auth)\n"
   ]
  },
  {
   "cell_type": "code",
   "execution_count": 118,
   "metadata": {
    "collapsed": false
   },
   "outputs": [],
   "source": [
    "local_search = api.search(q=\"bike\", geocode=\"40.4833097,-88.9141853,60mi\", count=100, result_type='recent' )"
   ]
  },
  {
   "cell_type": "code",
   "execution_count": 119,
   "metadata": {
    "collapsed": false
   },
   "outputs": [
    {
     "name": "stdout",
     "output_type": "stream",
     "text": [
      "RT @Twyfordbbq: We are serving up Whole Hog Sandwiches at Halls Harely Bike Night #food #BBQ #foodtruck @ Hall's… https://t.co/rrtuBm8dQt\n",
      "2015-07-18 01:27:12\n",
      "We are serving up Whole Hog Sandwiches at Halls Harely Bike Night #food #BBQ #foodtruck @ Hall's… https://t.co/rrtuBm8dQt\n",
      "2015-07-17 23:49:14\n",
      "When you bike on the West Side you learn that some people play tic tac toe a little bit… https://t.co/rjKR2K2fSr\n",
      "2015-07-13 23:37:57\n",
      "Monday thoughts! Bike and weights day! #positive #inspiration #Monday @ Four Seasons Association https://t.co/eWchDjP1kH\n",
      "2015-07-13 21:13:10\n",
      "Today was hot &amp; humid, mtn bike race was canceled from all the rain,... but mailtonate &amp; I took those… https://t.co/9aKPkJGw90\n",
      "2015-07-12 22:21:32\n",
      "Hey Ironman, watch my bike....I'm going to grab some Jimmy Johns real quick....brb! mailtonate… https://t.co/tAEifJQrVu\n",
      "2015-07-12 17:44:44\n",
      "while jack is at military camp we decided to push ourselves too. Tangel family bike ride 2k15☀️🚴🏼 @… https://t.co/C5MvjqK4iM\n",
      "2015-07-12 17:23:19\n",
      "Ohhh if Johannson would have connected on that Bike.....!!!! 😏👏\n",
      "2015-07-11 02:11:06\n"
     ]
    }
   ],
   "source": [
    "for tweet in local_search:\n",
    "    print tweet.text\n",
    "    print tweet.created_at"
   ]
  },
  {
   "cell_type": "code",
   "execution_count": null,
   "metadata": {
    "collapsed": true
   },
   "outputs": [],
   "source": [
    "#this really isn't going anywhere, not much social media going on here, search limited to last week."
   ]
  }
 ],
 "metadata": {
  "kernelspec": {
   "display_name": "Python 2",
   "language": "python",
   "name": "python2"
  },
  "language_info": {
   "codemirror_mode": {
    "name": "ipython",
    "version": 2
   },
   "file_extension": ".py",
   "mimetype": "text/x-python",
   "name": "python",
   "nbconvert_exporter": "python",
   "pygments_lexer": "ipython2",
   "version": "2.7.10"
  }
 },
 "nbformat": 4,
 "nbformat_minor": 0
}
