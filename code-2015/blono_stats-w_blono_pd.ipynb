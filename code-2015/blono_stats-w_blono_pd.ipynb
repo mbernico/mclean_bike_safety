{
 "cells": [
  {
   "cell_type": "code",
   "execution_count": 1,
   "metadata": {
    "collapsed": false
   },
   "outputs": [],
   "source": [
    "%matplotlib inline\n",
    "import pandas as pd\n",
    "import numpy as np\n",
    "from scipy import stats\n",
    "import datetime\n",
    "\n",
    "from matplotlib import pyplot as plt\n",
    "import seaborn as sns\n",
    "sns.set_style(\"whitegrid\")"
   ]
  },
  {
   "cell_type": "code",
   "execution_count": 2,
   "metadata": {
    "collapsed": true
   },
   "outputs": [],
   "source": [
    "mclean_df = pd.read_csv(\"mclean_county_data_with_geocode.csv\")\n",
    "mclean_df = mclean_df.drop(['Unnamed: 0'], axis=1)"
   ]
  },
  {
   "cell_type": "code",
   "execution_count": 3,
   "metadata": {
    "collapsed": false
   },
   "outputs": [],
   "source": [
    "normal_df = pd.read_csv(\"normal_il_data_w_geocode.csv\")\n",
    "normal_df = normal_df.drop(['Unnamed: 0'], axis=1)"
   ]
  },
  {
   "cell_type": "code",
   "execution_count": 4,
   "metadata": {
    "collapsed": true
   },
   "outputs": [],
   "source": [
    "bloomington_df = pd.read_csv(\"bloomington_il_data_with_geocode.csv\")\n",
    "bloomington_df = bloomington_df.drop(['Unnamed: 0'], axis=1)"
   ]
  },
  {
   "cell_type": "code",
   "execution_count": 5,
   "metadata": {
    "collapsed": false
   },
   "outputs": [
    {
     "name": "stdout",
     "output_type": "stream",
     "text": [
      " 2.66 crashes per 10,000 people in bloomington\n",
      " 2.56 crashes per 10,000 people in normal\n",
      " 8.28 crashes per 10,000 people in chicago\n",
      "null hypothesis is that bloomington and normal are equally safe for bikers\n",
      "p = 0.95183165171\n",
      "fail to reject the null at p < 0.5\n",
      "null hypothesis is that bloomington and chicago are equally safe for bikers\n",
      "p = 1.41950511363e-12\n",
      "reject the null at p < 0.5\n"
     ]
    }
   ],
   "source": [
    "#how many accidents were in bloomington, and normal\n",
    "\n",
    "normal_count = normal_df.shape[0]\n",
    "bloomington_count = bloomington_df.shape[0]\n",
    "chicago_count = 2250\n",
    "\n",
    "BLOOMINGTON_POP = 78902\n",
    "NORMAL_POP= 54664\n",
    "CHICAGO_POP = 2719000\n",
    "\n",
    "blono_crash_per_capita = bloomington_count / float(BLOOMINGTON_POP)\n",
    "normal_crash_per_capita = normal_count / float(NORMAL_POP)\n",
    "chicago_crash_per_captia = chicago_count / float(CHICAGO_POP)\n",
    "\n",
    "\n",
    "print \" %0.2f crashes per 10,000 people in bloomington\" % ( blono_crash_per_capita * 10000)\n",
    "print  \" %0.2f crashes per 10,000 people in normal\" % (normal_crash_per_capita * 10000)\n",
    "print  \" %0.2f crashes per 10,000 people in chicago\" % (chicago_crash_per_captia * 10000)\n",
    "\n",
    "\n",
    "\n",
    "#Going to just use X2 here because lazy, sorry Bayesians.\n",
    "\n",
    "obs = np.array(([normal_count, NORMAL_POP-normal_count], [bloomington_count, BLOOMINGTON_POP-bloomington_count]))\n",
    "chi2, p, dof, expected = stats.chi2_contingency(obs)\n",
    "print 'null hypothesis is that bloomington and normal are equally safe for bikers'\n",
    "print \"p = \" +  str(p)\n",
    "print \"fail to reject the null at p < 0.5\"\n",
    "\n",
    "obs = np.array(([normal_count+bloomington_count, NORMAL_POP-normal_count+(BLOOMINGTON_POP-bloomington_count)],[chicago_count, CHICAGO_POP-chicago_count]))\n",
    "chi2, p, dof, expected = stats.chi2_contingency(obs)\n",
    "print 'null hypothesis is that bloomington and chicago are equally safe for bikers'\n",
    "print \"p = \" +  str(p)\n",
    "print \"reject the null at p < 0.5\"\n"
   ]
  },
  {
   "cell_type": "markdown",
   "metadata": {},
   "source": [
    "# Deeper Statistical Analysis\n",
    "\n",
    "Problems - \n",
    "*  bike accidents are very rare (Future Mike:  Talk to AC.   You've found a zero inflated Poisson problem)\n",
    "*  not much commonality between these datasets.\n",
    "*  Bloomington's open data sucks\n",
    "\n",
    "\n",
    "Approach\n",
    "* take the common variables I do have\n",
    "* engineer features\n",
    "* descriptive stats on when accidents happen maybe?\n",
    "* could try unsupervised ML\n",
    "* ???"
   ]
  },
  {
   "cell_type": "code",
   "execution_count": 5,
   "metadata": {
    "collapsed": true
   },
   "outputs": [],
   "source": [
    "complete_df = bloomington_df.append([normal_df, mclean_df], ignore_index=True)"
   ]
  },
  {
   "cell_type": "code",
   "execution_count": 6,
   "metadata": {
    "collapsed": true
   },
   "outputs": [],
   "source": [
    "#break out month, day, year\n",
    "\n",
    "def get_month_day_year(date):\n",
    "    month, day, year = date.split(\"/\")\n",
    "\n",
    "    return int(month), int(day), int(year)\n",
    "\n",
    "complete_df['month'], complete_df['day'], complete_df['year'] = zip(*complete_df.date.map(get_month_day_year))"
   ]
  },
  {
   "cell_type": "code",
   "execution_count": 7,
   "metadata": {
    "collapsed": false
   },
   "outputs": [],
   "source": [
    "#time as an hour bin (could also do seconds of day or something for continuous, this is more human understandable)\n",
    "\n",
    "def bin_hours(time):\n",
    "    hour = int(time.split(':')[0])\n",
    "    am_pm = time.split(' ')[1].lower()\n",
    "    if am_pm == 'pm':\n",
    "        hour +=12\n",
    "    return hour\n",
    "\n",
    "complete_df['hour_bin'] = complete_df.time.map(bin_hours)"
   ]
  },
  {
   "cell_type": "code",
   "execution_count": 8,
   "metadata": {
    "collapsed": false
   },
   "outputs": [],
   "source": [
    "#clean up lat and long\n",
    "\n",
    "def clean_lat_long(x):\n",
    "    x = x.strip('[]')\n",
    "    latitude, longitude = x.split(',')\n",
    "    return float(latitude), float(longitude)\n",
    "\n",
    "\n",
    "complete_df['latitude'], complete_df['longitude'] = zip(*complete_df.lat_long.map(clean_lat_long))      "
   ]
  },
  {
   "cell_type": "code",
   "execution_count": 9,
   "metadata": {
    "collapsed": false
   },
   "outputs": [],
   "source": [
    "#day of week feature\n",
    "\n",
    "def day_of_week(date):\n",
    "    month, day, year = (int(x) for x in date.split('/'))\n",
    "    if year < 99:\n",
    "        year = 2000 + year   #do you want y3k, because this is how you get y3k\n",
    "    dt = datetime.date(year, month, day)\n",
    "    return dt.strftime(\"%A\")\n",
    "\n",
    "complete_df['day_of_week'] = complete_df.date.map(day_of_week)"
   ]
  },
  {
   "cell_type": "code",
   "execution_count": 10,
   "metadata": {
    "collapsed": false
   },
   "outputs": [
    {
     "data": {
      "text/plain": [
       "(37, 32)"
      ]
     },
     "execution_count": 10,
     "metadata": {},
     "output_type": "execute_result"
    }
   ],
   "source": [
    "complete_df.shape"
   ]
  },
  {
   "cell_type": "code",
   "execution_count": 12,
   "metadata": {
    "collapsed": false
   },
   "outputs": [
    {
     "data": {
      "text/plain": [
       "m           25\n",
       "f            7\n",
       "male         2\n",
       "unknown      2\n",
       "redacted     1\n",
       "Name: cyclist_gender, dtype: int64"
      ]
     },
     "execution_count": 12,
     "metadata": {},
     "output_type": "execute_result"
    }
   ],
   "source": [
    "complete_df.cyclist_gender.value_counts()"
   ]
  },
  {
   "cell_type": "code",
   "execution_count": 13,
   "metadata": {
    "collapsed": false
   },
   "outputs": [
    {
     "data": {
      "text/plain": [
       "0.6756756756756757"
      ]
     },
     "execution_count": 13,
     "metadata": {},
     "output_type": "execute_result"
    }
   ],
   "source": [
    "##percent male\n",
    "float(25)/37"
   ]
  },
  {
   "cell_type": "markdown",
   "metadata": {},
   "source": [
    "###TODO\n",
    "\n",
    "*  MDS \n",
    "*  K-Means"
   ]
  },
  {
   "cell_type": "code",
   "execution_count": 13,
   "metadata": {
    "collapsed": false
   },
   "outputs": [
    {
     "data": {
      "image/png": "[encoded data removed]",
      "text/plain": [
       "<matplotlib.figure.Figure at 0x7f3ae9ede150>"
      ]
     },
     "metadata": {},
     "output_type": "display_data"
    }
   ],
   "source": [
    "#visualize month\n",
    "plt.figure(figsize=(10,5))\n",
    "plt.title(\"McLean County Crashes by Month\")\n",
    "sns.countplot(x=\"month\", data=complete_df, palette=\"Blues\", order =[3,4,5,6,7,8,9,10,11,12])\n",
    "plt.legend()"
   ]
  },
  {
   "cell_type": "code",
   "execution_count": 14,
   "metadata": {
    "collapsed": false
   },
   "outputs": [
    {
     "data": {
      "image/png": "[encoded data removed]",
      "text/plain": [
       "<matplotlib.figure.Figure at 0x7f3ae9f6c310>"
      ]
     },
     "metadata": {},
     "output_type": "display_data"
    }
   ],
   "source": [
    "#visualize time\n",
    "plt.figure(figsize=(10,5))\n",
    "plt.title(\"McLean County Crashes by Hour\")\n",
    "sns.countplot(x=\"hour_bin\", data=complete_df, palette=\"Blues\", order = range(0,24,1))\n",
    "plt.xlabel(\"Hour of the Day\")\n",
    "plt.legend()\n",
    "\n",
    "#  order = sorted(complete_df.hour_bin.unique()"
   ]
  },
  {
   "cell_type": "code",
   "execution_count": 15,
   "metadata": {
    "collapsed": false
   },
   "outputs": [
    {
     "data": {
      "image/png": "[encoded data removed]",
      "text/plain": [
       "<matplotlib.figure.Figure at 0x7f3ae9c6f2d0>"
      ]
     },
     "metadata": {},
     "output_type": "display_data"
    }
   ],
   "source": [
    "#visualize day\n",
    "plt.figure(figsize=(10,5))\n",
    "plt.title(\"McLean County Crashes by Day of Week\")\n",
    "sns.countplot(x=\"day_of_week\", data=complete_df, palette=\"Blues\", order =['Monday', 'Tuesday', \n",
    "                                                                             'Wednesday', 'Thursday','Friday',\n",
    "                                                                             'Saturday','Sunday'] )\n",
    "plt.xlabel(\"Day of the Week\")\n",
    "plt.legend()"
   ]
  },
  {
   "cell_type": "code",
   "execution_count": 16,
   "metadata": {
    "collapsed": false
   },
   "outputs": [
    {
     "data": {
      "text/plain": [
       "<matplotlib.axes._subplots.AxesSubplot at 0x7f3ae9b725d0>"
      ]
     },
     "execution_count": 16,
     "metadata": {},
     "output_type": "execute_result"
    },
    {
     "data": {
      "image/png": "[encoded data removed]",
      "text/plain": [
       "<matplotlib.figure.Figure at 0x7f3ae9c6f210>"
      ]
     },
     "metadata": {},
     "output_type": "display_data"
    }
   ],
   "source": [
    "#where were the bikes before a crash\n",
    "bike_locs_percent= complete_df.location_bike.value_counts() / complete_df.location_bike.value_counts().sum()\n",
    "bike_locs_percent.plot(kind='barh')"
   ]
  },
  {
   "cell_type": "code",
   "execution_count": 18,
   "metadata": {
    "collapsed": false
   },
   "outputs": [
    {
     "data": {
      "image/png": "[encoded data removed]",
      "text/plain": [
       "<matplotlib.figure.Figure at 0x7f3ae9a3a190>"
      ]
     },
     "metadata": {},
     "output_type": "display_data"
    }
   ],
   "source": [
    "plt.figure(figsize=(10,5))\n",
    "plt.title(\"Bike Location Prior to Crash\")\n",
    "sns.countplot( y=\"location_bike\", data=complete_df,  palette=\"Blues\", order=['parking_lot', 'crosswalk','alley',\n",
    "                                                                             'street', 'intersection', 'sidewalk'])\n",
    "plt.ylabel(\"\")\n",
    "plt.xlabel(\"Count\")\n",
    "plt.legend()"
   ]
  },
  {
   "cell_type": "code",
   "execution_count": 66,
   "metadata": {
    "collapsed": false
   },
   "outputs": [
    {
     "data": {
      "text/plain": [
       "cyclist     16\n",
       "motorist    11\n",
       "unknown      9\n",
       "none         1\n",
       "dtype: int64"
      ]
     },
     "execution_count": 66,
     "metadata": {},
     "output_type": "execute_result"
    }
   ],
   "source": [
    "complete_df.fault.value_counts()"
   ]
  },
  {
   "cell_type": "code",
   "execution_count": 67,
   "metadata": {
    "collapsed": false
   },
   "outputs": [
    {
     "data": {
      "text/plain": [
       "(37, 32)"
      ]
     },
     "execution_count": 67,
     "metadata": {},
     "output_type": "execute_result"
    }
   ],
   "source": [
    "complete_df.shape"
   ]
  },
  {
   "cell_type": "code",
   "execution_count": 69,
   "metadata": {
    "collapsed": false
   },
   "outputs": [
    {
     "data": {
      "text/plain": [
       "0.43243243243243246"
      ]
     },
     "execution_count": 69,
     "metadata": {},
     "output_type": "execute_result"
    }
   ],
   "source": [
    "16/37.0"
   ]
  },
  {
   "cell_type": "code",
   "execution_count": 70,
   "metadata": {
    "collapsed": false
   },
   "outputs": [
    {
     "data": {
      "text/plain": [
       "Index([u'id', u'date', u'time', u'fault', u'motorist_name', u'motorist_gender',\n",
       "       u'insured', u'veh_make', u'veh_model', u'veh_year', u'cyclist_name',\n",
       "       u'cyclist_gender', u'bike', u'geo_loc', u'location_car',\n",
       "       u'location_bike', u'arrest', u'officer_id', u'm_citation', u'm_section',\n",
       "       u'c_citation', u'c_section', u'hospital', u'summary', u'lat_long',\n",
       "       u'month', u'day', u'year', u'hour_bin', u'latitude', u'longitude',\n",
       "       u'day_of_week'],\n",
       "      dtype='object')"
      ]
     },
     "execution_count": 70,
     "metadata": {},
     "output_type": "execute_result"
    }
   ],
   "source": [
    "complete_df.columns"
   ]
  },
  {
   "cell_type": "code",
   "execution_count": 72,
   "metadata": {
    "collapsed": false
   },
   "outputs": [
    {
     "data": {
      "text/plain": [
       "m           25\n",
       "f            7\n",
       "male         2\n",
       "unknown      2\n",
       "redacted     1\n",
       "dtype: int64"
      ]
     },
     "execution_count": 72,
     "metadata": {},
     "output_type": "execute_result"
    }
   ],
   "source": [
    "complete_df.cyclist_gender.value_counts()"
   ]
  },
  {
   "cell_type": "code",
   "execution_count": 73,
   "metadata": {
    "collapsed": false
   },
   "outputs": [
    {
     "data": {
      "text/plain": [
       "0.7941176470588235"
      ]
     },
     "execution_count": 73,
     "metadata": {},
     "output_type": "execute_result"
    }
   ],
   "source": [
    "27/34.0  #79% male"
   ]
  },
  {
   "cell_type": "code",
   "execution_count": 19,
   "metadata": {
    "collapsed": false
   },
   "outputs": [
    {
     "data": {
      "text/plain": [
       "0                       driver hit cyclist in crosswalk\n",
       "1     cyclist ran red light at intersection, driver ...\n",
       "2     cyclist ran stop sign, traveling against traff...\n",
       "3     cyclist traveling wrong way down alley, hit by...\n",
       "4     cyclist didn't stop at intersection of alley a...\n",
       "5     cyclist riding against traffic on sidewalk, hi...\n",
       "6     motorist hit cyclist at intersection.  Motoris...\n",
       "7     cyclist hit by car racing yellow light at inte...\n",
       "8     cyclist riding against traffic on sidewalk, hi...\n",
       "9     cyclist riding the wrong way on vetrans parkwa...\n",
       "10    motorist hit cyclist, hit and run.  Motorist r...\n",
       "11       cyclist on sidewalk hit at intersection by car\n",
       "12                               cyclist rear ended car\n",
       "13              cyclist struck motorist at intersection\n",
       "14    cyclist struck motorist at intersection – conn...\n",
       "15    cyclist lost control and hit motorist at low s...\n",
       "16    cyclist struck by car turning left.   Hit and run\n",
       "17    cyclist struck car while leaving alley.  Brake...\n",
       "18    cyclist hit by car while traveling the wrong w...\n",
       "19                           cyclist ran light, hit car\n",
       "20        cyclist hit by car turning right at crosswalk\n",
       "21     cyclist on sidewalk, didn't stop at intersection\n",
       "22                        kids playing in a parking lot\n",
       "23                  cyclist ran a red light, hit by car\n",
       "24     cyclist on sidewalk, didn't stop at intersection\n",
       "25    motorist turned into the rear wheel of a cycli...\n",
       "26    motorist looking left, hit cyclist crossing in...\n",
       "27    motorist proceeded thru crosswalk without seei...\n",
       "28    drunk cyclist, riding at night without lights,...\n",
       "29    driver was looking south for traffic, pulled f...\n",
       "30    driver was looking east for traffic and hit cy...\n",
       "31    apparently both driver and cyclist failed to s...\n",
       "32    cyclist was hit from behind, hit and run, mult...\n",
       "33    juvenile cyclist riding down an alley hit a ca...\n",
       "34    cyclist riding at night with no headlight, dar...\n",
       "35                   Cyclist struck by motorists mirror\n",
       "36                 Cyclist ran off the road by motorist\n",
       "Name: summary, dtype: object"
      ]
     },
     "execution_count": 19,
     "metadata": {},
     "output_type": "execute_result"
    }
   ],
   "source": [
    "complete_df.summary"
   ]
  },
  {
   "cell_type": "code",
   "execution_count": null,
   "metadata": {
    "collapsed": true
   },
   "outputs": [],
   "source": []
  }
 ],
 "metadata": {
  "kernelspec": {
   "display_name": "Python 3",
   "language": "python",
   "name": "python3"
  },
  "language_info": {
   "codemirror_mode": {
    "name": "ipython",
    "version": 3
   },
   "file_extension": ".py",
   "mimetype": "text/x-python",
   "name": "python",
   "nbconvert_exporter": "python",
   "pygments_lexer": "ipython3",
   "version": "3.5.1"
  }
 },
 "nbformat": 4,
 "nbformat_minor": 0
}
