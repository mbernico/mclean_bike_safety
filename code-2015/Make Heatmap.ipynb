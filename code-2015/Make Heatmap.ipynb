{
 "cells": [
  {
   "cell_type": "code",
   "execution_count": 1,
   "metadata": {
    "collapsed": true
   },
   "outputs": [],
   "source": [
    "import pandas as pd"
   ]
  },
  {
   "cell_type": "code",
   "execution_count": 2,
   "metadata": {
    "collapsed": true
   },
   "outputs": [],
   "source": [
    "mclean_df = pd.read_csv(\"mclean_county_data_with_geocode.csv\")\n",
    "mclean_df = mclean_df.drop(['Unnamed: 0'], axis=1)\n",
    "normal_df = pd.read_csv(\"normal_il_data_w_geocode.csv\")\n",
    "normal_df = normal_df.drop(['Unnamed: 0'], axis=1)\n",
    "bloomington_df = pd.read_csv(\"bloomington_il_data_with_geocode.csv\")\n",
    "bloomington_df = bloomington_df.drop(['Unnamed: 0'], axis=1)"
   ]
  },
  {
   "cell_type": "code",
   "execution_count": 3,
   "metadata": {
    "collapsed": true
   },
   "outputs": [],
   "source": [
    "#combine common fields across datasets.\n",
    "normal_clean = pd.DataFrame()\n",
    "normal_clean['date'] = normal_df.date\n",
    "normal_clean['time'] = normal_df.time\n",
    "normal_clean['geo_loc'] = normal_df.geo_loc\n",
    "normal_clean['lat_long'] = normal_df.lat_long\n",
    "normal_clean['id'] = normal_df.id\n",
    "\n",
    "bloomington_clean = pd.DataFrame()\n",
    "bloomington_clean['date'] = bloomington_df.date\n",
    "bloomington_clean['time'] = bloomington_df.time\n",
    "bloomington_clean['geo_loc'] = bloomington_df.geo_loc\n",
    "bloomington_clean['lat_long'] = bloomington_df.lat_long\n",
    "bloomington_clean['id'] = bloomington_df.id\n",
    "\n",
    "\n",
    "mclean_clean = pd.DataFrame()\n",
    "mclean_clean['date'] = mclean_df.date\n",
    "mclean_clean['time'] = mclean_df.time\n",
    "mclean_clean['geo_loc'] = mclean_df.geo_loc\n",
    "mclean_clean['lat_long'] = mclean_df.lat_long\n",
    "mclean_clean['id'] = mclean_df.id\n",
    "\n",
    "complete_df = bloomington_clean.append([normal_clean, mclean_clean], ignore_index=True)"
   ]
  },
  {
   "cell_type": "code",
   "execution_count": 4,
   "metadata": {
    "collapsed": false
   },
   "outputs": [],
   "source": [
    "def make_latlongs(x):\n",
    "    x = x.strip('[]')\n",
    "    lat, lng = x.split(',') \n",
    "    js = \"new google.maps.LatLng(\" + str(lat) +\", \"+ str(lng) + \"),\"\n",
    "    print js"
   ]
  },
  {
   "cell_type": "code",
   "execution_count": 5,
   "metadata": {
    "collapsed": false
   },
   "outputs": [
    {
     "name": "stdout",
     "output_type": "stream",
     "text": [
      "new google.maps.LatLng(40.4823471,  -88.99473619999999),\n",
      "new google.maps.LatLng(40.4796281,  -88.9909237),\n",
      "new google.maps.LatLng(40.4740842,  -88.98258179999999),\n",
      "new google.maps.LatLng(40.486328,  -89.001143),\n",
      "new google.maps.LatLng(40.6331249,  -89.3985283),\n",
      "new google.maps.LatLng(40.4845298,  -88.9851656),\n",
      "new google.maps.LatLng(40.4667754,  -88.9817865),\n",
      "new google.maps.LatLng(40.47872230000001,  -88.9926296),\n",
      "new google.maps.LatLng(40.4648825,  -88.99301969999999),\n",
      "new google.maps.LatLng(40.6331249,  -89.3985283),\n",
      "new google.maps.LatLng(40.4811839,  -88.99859500000001),\n",
      "new google.maps.LatLng(40.4786666,  -88.99550070000001),\n",
      "new google.maps.LatLng(40.4967857,  -88.9282825),\n",
      "new google.maps.LatLng(40.4821786,  -89.00327340000001),\n",
      "new google.maps.LatLng(40.4967008,  -88.953284),\n",
      "new google.maps.LatLng(40.4673879,  -88.9995534),\n",
      "new google.maps.LatLng(40.4770829,  -88.9932098),\n",
      "new google.maps.LatLng(40.48027889999999,  -89.00170609999999),\n",
      "new google.maps.LatLng(40.6331249,  -89.3985283),\n",
      "new google.maps.LatLng(40.4881458,  -88.9940067),\n",
      "new google.maps.LatLng(40.4588012,  -88.9429092),\n",
      "new google.maps.LatLng(40.5098029,  -89.00439019999999),\n",
      "new google.maps.LatLng(40.502852,  -88.98104599999999),\n",
      "new google.maps.LatLng(40.5049212,  -88.9822318),\n",
      "new google.maps.LatLng(40.5208051,  -88.96081679999999),\n",
      "new google.maps.LatLng(40.5049212,  -88.9822318),\n",
      "new google.maps.LatLng(40.5063898,  -88.9965167),\n",
      "new google.maps.LatLng(40.5103696,  -88.9858667),\n",
      "new google.maps.LatLng(40.5026268,  -88.99459809999999),\n",
      "new google.maps.LatLng(40.5026268,  -88.99459809999999),\n",
      "new google.maps.LatLng(40.5319335,  -88.9988872),\n",
      "new google.maps.LatLng(40.5024515,  -89.0013773),\n",
      "new google.maps.LatLng(40.509685,  -89.0254971),\n",
      "new google.maps.LatLng(40.5249587,  -88.97393989999999),\n",
      "new google.maps.LatLng(40.5083767,  -88.9857737),\n",
      "new google.maps.LatLng(40.649744,  -88.989778),\n",
      "new google.maps.LatLng(40.5684362,  -89.0802288),\n"
     ]
    },
    {
     "data": {
      "text/plain": [
       "0     None\n",
       "1     None\n",
       "2     None\n",
       "3     None\n",
       "4     None\n",
       "5     None\n",
       "6     None\n",
       "7     None\n",
       "8     None\n",
       "9     None\n",
       "10    None\n",
       "11    None\n",
       "12    None\n",
       "13    None\n",
       "14    None\n",
       "15    None\n",
       "16    None\n",
       "17    None\n",
       "18    None\n",
       "19    None\n",
       "20    None\n",
       "21    None\n",
       "22    None\n",
       "23    None\n",
       "24    None\n",
       "25    None\n",
       "26    None\n",
       "27    None\n",
       "28    None\n",
       "29    None\n",
       "30    None\n",
       "31    None\n",
       "32    None\n",
       "33    None\n",
       "34    None\n",
       "35    None\n",
       "36    None\n",
       "Name: lat_long, dtype: object"
      ]
     },
     "execution_count": 5,
     "metadata": {},
     "output_type": "execute_result"
    }
   ],
   "source": [
    "complete_df.lat_long.map(make_latlongs)"
   ]
  },
  {
   "cell_type": "code",
   "execution_count": null,
   "metadata": {
    "collapsed": true
   },
   "outputs": [],
   "source": [
    ""
   ]
  }
 ],
 "metadata": {
  "kernelspec": {
   "display_name": "Python 2",
   "language": "python",
   "name": "python2"
  },
  "language_info": {
   "codemirror_mode": {
    "name": "ipython",
    "version": 2.0
   },
   "file_extension": ".py",
   "mimetype": "text/x-python",
   "name": "python",
   "nbconvert_exporter": "python",
   "pygments_lexer": "ipython2",
   "version": "2.7.10"
  }
 },
 "nbformat": 4,
 "nbformat_minor": 0
}