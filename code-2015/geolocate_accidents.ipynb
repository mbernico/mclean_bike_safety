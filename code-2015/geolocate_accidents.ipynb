{
 "cells": [
  {
   "cell_type": "markdown",
   "metadata": {},
   "source": [
    "##Normal IL Geocode"
   ]
  },
  {
   "cell_type": "code",
   "execution_count": 2,
   "metadata": {
    "collapsed": true
   },
   "outputs": [],
   "source": [
    "import geocoder\n",
    "import pandas as pd"
   ]
  },
  {
   "cell_type": "code",
   "execution_count": 3,
   "metadata": {
    "collapsed": true
   },
   "outputs": [],
   "source": [
    "import seaborn as sns\n"
   ]
  },
  {
   "cell_type": "code",
   "execution_count": 4,
   "metadata": {
    "collapsed": true
   },
   "outputs": [],
   "source": [
    "def geocode(x):\n",
    "    x = x + \"normal, illinois\"\n",
    "    g = geocoder.google(x)\n",
    "    return g.latlng\n",
    "\n"
   ]
  },
  {
   "cell_type": "code",
   "execution_count": 19,
   "metadata": {
    "collapsed": true
   },
   "outputs": [],
   "source": [
    "df = pd.read_csv(\"normal_il_data.csv\")"
   ]
  },
  {
   "cell_type": "code",
   "execution_count": 20,
   "metadata": {
    "collapsed": false
   },
   "outputs": [],
   "source": [
    "df['lat_long'] = df.geo_loc.map(geocode)"
   ]
  },
  {
   "cell_type": "code",
   "execution_count": 21,
   "metadata": {
    "collapsed": true
   },
   "outputs": [],
   "source": [
    "df.to_csv('normal_il_data_w_geocode.csv')"
   ]
  },
  {
   "cell_type": "code",
   "execution_count": 22,
   "metadata": {
    "collapsed": false
   },
   "outputs": [
    {
     "data": {
      "text/plain": [
       "0     [40.5098029, -89.0043902]\n",
       "1       [40.502852, -88.981046]\n",
       "2     [40.5049212, -88.9822318]\n",
       "3     [40.5208051, -88.9608168]\n",
       "4     [40.5049212, -88.9822318]\n",
       "5     [40.5063898, -88.9965167]\n",
       "6     [40.5103696, -88.9858667]\n",
       "7     [40.5026268, -88.9945981]\n",
       "8     [40.5026268, -88.9945981]\n",
       "9     [40.5319335, -88.9988872]\n",
       "10    [40.5024515, -89.0013773]\n",
       "11     [40.509685, -89.0254971]\n",
       "12    [40.5249587, -88.9739399]\n",
       "13    [40.5083767, -88.9857737]\n",
       "Name: lat_long, dtype: object"
      ]
     },
     "execution_count": 22,
     "metadata": {},
     "output_type": "execute_result"
    }
   ],
   "source": [
    "df.lat_long"
   ]
  },
  {
   "cell_type": "markdown",
   "metadata": {
    "collapsed": true
   },
   "source": [
    "##Bloomington Engineering Geocode"
   ]
  },
  {
   "cell_type": "code",
   "execution_count": 4,
   "metadata": {
    "collapsed": false
   },
   "outputs": [],
   "source": [
    "df = pd.read_csv(\"Bloomington, IL Bike Crash Data - 2002 to present - Engineering.csv\")"
   ]
  },
  {
   "cell_type": "code",
   "execution_count": 5,
   "metadata": {
    "collapsed": false
   },
   "outputs": [
    {
     "data": {
      "text/html": [
       "<div>\n",
       "<table border=\"1\" class=\"dataframe\">\n",
       "  <thead>\n",
       "    <tr style=\"text-align: right;\">\n",
       "      <th></th>\n",
       "      <th>NSTRT</th>\n",
       "      <th>ESTRT</th>\n",
       "      <th>REPORT_NO</th>\n",
       "      <th>TYPE</th>\n",
       "      <th>INJA</th>\n",
       "      <th>INJB</th>\n",
       "      <th>INJC</th>\n",
       "      <th>INJK</th>\n",
       "      <th>DIST</th>\n",
       "      <th>DIR</th>\n",
       "      <th>...</th>\n",
       "      <th>TCD</th>\n",
       "      <th>SURF</th>\n",
       "      <th>LITE</th>\n",
       "      <th>AC_DATE</th>\n",
       "      <th>AC_TIME</th>\n",
       "      <th>DIRU1</th>\n",
       "      <th>DIRU2</th>\n",
       "      <th>YEAR</th>\n",
       "      <th>INTRSECT</th>\n",
       "      <th>ID</th>\n",
       "    </tr>\n",
       "  </thead>\n",
       "  <tbody>\n",
       "    <tr>\n",
       "      <th>0</th>\n",
       "      <td>WYLIE DR</td>\n",
       "      <td>MARKET ST</td>\n",
       "      <td>20021878</td>\n",
       "      <td>2</td>\n",
       "      <td>0</td>\n",
       "      <td>2</td>\n",
       "      <td>0</td>\n",
       "      <td>0</td>\n",
       "      <td>0</td>\n",
       "      <td>NaN</td>\n",
       "      <td>...</td>\n",
       "      <td>3</td>\n",
       "      <td>1</td>\n",
       "      <td>1</td>\n",
       "      <td>8/30/2002</td>\n",
       "      <td>1:03 AM</td>\n",
       "      <td>S</td>\n",
       "      <td>E</td>\n",
       "      <td>2002</td>\n",
       "      <td>NaN</td>\n",
       "      <td>776</td>\n",
       "    </tr>\n",
       "    <tr>\n",
       "      <th>1</th>\n",
       "      <td>CLINTON ST WEST</td>\n",
       "      <td>OAKLAND AVE</td>\n",
       "      <td>20021871</td>\n",
       "      <td>2</td>\n",
       "      <td>1</td>\n",
       "      <td>0</td>\n",
       "      <td>0</td>\n",
       "      <td>0</td>\n",
       "      <td>0</td>\n",
       "      <td>NaN</td>\n",
       "      <td>...</td>\n",
       "      <td>3</td>\n",
       "      <td>1</td>\n",
       "      <td>1</td>\n",
       "      <td>8/29/2002</td>\n",
       "      <td>6:48 PM</td>\n",
       "      <td>SE</td>\n",
       "      <td>SE</td>\n",
       "      <td>2002</td>\n",
       "      <td>NaN</td>\n",
       "      <td>268</td>\n",
       "    </tr>\n",
       "    <tr>\n",
       "      <th>2</th>\n",
       "      <td>MCLEAN ST</td>\n",
       "      <td>FRONT ST</td>\n",
       "      <td>20021683</td>\n",
       "      <td>2</td>\n",
       "      <td>0</td>\n",
       "      <td>1</td>\n",
       "      <td>0</td>\n",
       "      <td>0</td>\n",
       "      <td>0</td>\n",
       "      <td>NaN</td>\n",
       "      <td>...</td>\n",
       "      <td>1</td>\n",
       "      <td>9</td>\n",
       "      <td>1</td>\n",
       "      <td>8/7/2002</td>\n",
       "      <td>8:30 AM</td>\n",
       "      <td>E</td>\n",
       "      <td>W</td>\n",
       "      <td>2002</td>\n",
       "      <td>NaN</td>\n",
       "      <td>234</td>\n",
       "    </tr>\n",
       "    <tr>\n",
       "      <th>3</th>\n",
       "      <td>MAIN ST</td>\n",
       "      <td>MILLER ST</td>\n",
       "      <td>20021667</td>\n",
       "      <td>2</td>\n",
       "      <td>0</td>\n",
       "      <td>1</td>\n",
       "      <td>0</td>\n",
       "      <td>0</td>\n",
       "      <td>0</td>\n",
       "      <td>NaN</td>\n",
       "      <td>...</td>\n",
       "      <td>2</td>\n",
       "      <td>9</td>\n",
       "      <td>1</td>\n",
       "      <td>8/4/2002</td>\n",
       "      <td>6:32 PM</td>\n",
       "      <td>S</td>\n",
       "      <td>NE</td>\n",
       "      <td>2002</td>\n",
       "      <td>NaN</td>\n",
       "      <td>1495</td>\n",
       "    </tr>\n",
       "    <tr>\n",
       "      <th>4</th>\n",
       "      <td>MASON ST</td>\n",
       "      <td>MARKET ST</td>\n",
       "      <td>20021639</td>\n",
       "      <td>2</td>\n",
       "      <td>0</td>\n",
       "      <td>0</td>\n",
       "      <td>1</td>\n",
       "      <td>0</td>\n",
       "      <td>0</td>\n",
       "      <td>NaN</td>\n",
       "      <td>...</td>\n",
       "      <td>1</td>\n",
       "      <td>1</td>\n",
       "      <td>1</td>\n",
       "      <td>7/30/2002</td>\n",
       "      <td>7:56 PM</td>\n",
       "      <td>S</td>\n",
       "      <td>W</td>\n",
       "      <td>2002</td>\n",
       "      <td>NaN</td>\n",
       "      <td>214</td>\n",
       "    </tr>\n",
       "  </tbody>\n",
       "</table>\n",
       "<p>5 rows × 22 columns</p>\n",
       "</div>"
      ],
      "text/plain": [
       "             NSTRT        ESTRT REPORT_NO  TYPE  INJA  INJB  INJC  INJK  DIST  \\\n",
       "0         WYLIE DR    MARKET ST  20021878     2     0     2     0     0     0   \n",
       "1  CLINTON ST WEST  OAKLAND AVE  20021871     2     1     0     0     0     0   \n",
       "2        MCLEAN ST     FRONT ST  20021683     2     0     1     0     0     0   \n",
       "3          MAIN ST    MILLER ST  20021667     2     0     1     0     0     0   \n",
       "4         MASON ST    MARKET ST  20021639     2     0     0     1     0     0   \n",
       "\n",
       "   DIR  ...  TCD  SURF  LITE    AC_DATE  AC_TIME DIRU1 DIRU2  YEAR INTRSECT  \\\n",
       "0  NaN  ...    3     1     1  8/30/2002  1:03 AM     S     E  2002      NaN   \n",
       "1  NaN  ...    3     1     1  8/29/2002  6:48 PM    SE    SE  2002      NaN   \n",
       "2  NaN  ...    1     9     1   8/7/2002  8:30 AM     E     W  2002      NaN   \n",
       "3  NaN  ...    2     9     1   8/4/2002  6:32 PM     S    NE  2002      NaN   \n",
       "4  NaN  ...    1     1     1  7/30/2002  7:56 PM     S     W  2002      NaN   \n",
       "\n",
       "     ID  \n",
       "0   776  \n",
       "1   268  \n",
       "2   234  \n",
       "3  1495  \n",
       "4   214  \n",
       "\n",
       "[5 rows x 22 columns]"
      ]
     },
     "execution_count": 5,
     "metadata": {},
     "output_type": "execute_result"
    }
   ],
   "source": [
    "df.head()"
   ]
  },
  {
   "cell_type": "code",
   "execution_count": 6,
   "metadata": {
    "collapsed": true
   },
   "outputs": [],
   "source": [
    "def blm_geocode(x):\n",
    "    x = x + \"bloomington, IL\"\n",
    "    g = geocoder.google(x)\n",
    "    return g.latlng\n"
   ]
  },
  {
   "cell_type": "code",
   "execution_count": 7,
   "metadata": {
    "collapsed": false
   },
   "outputs": [],
   "source": [
    "df['intersection'] = \"intersection of \" + df['NSTRT'] +  \" and \" +df['ESTRT']"
   ]
  },
  {
   "cell_type": "code",
   "execution_count": 10,
   "metadata": {
    "collapsed": false
   },
   "outputs": [],
   "source": [
    "df['lat_long'] = df.intersection.map(geocode)"
   ]
  },
  {
   "cell_type": "code",
   "execution_count": 11,
   "metadata": {
    "collapsed": false
   },
   "outputs": [],
   "source": [
    "df.to_csv('bloomington_il_engineering_w_geocode.csv')"
   ]
  },
  {
   "cell_type": "markdown",
   "metadata": {},
   "source": [
    "###Bloomington PD Data"
   ]
  },
  {
   "cell_type": "code",
   "execution_count": 7,
   "metadata": {
    "collapsed": false
   },
   "outputs": [],
   "source": [
    "df = pd.read_csv(\"bloomington_il_data.csv\")"
   ]
  },
  {
   "cell_type": "code",
   "execution_count": 8,
   "metadata": {
    "collapsed": true
   },
   "outputs": [],
   "source": [
    "df['lat_long'] = df.geo_loc.map(geocode)"
   ]
  },
  {
   "cell_type": "code",
   "execution_count": 10,
   "metadata": {
    "collapsed": false
   },
   "outputs": [],
   "source": [
    "df.to_csv('bloomington_il_data_with_geocode.csv')"
   ]
  },
  {
   "cell_type": "markdown",
   "metadata": {
    "collapsed": true
   },
   "source": [
    "### Mclean County"
   ]
  },
  {
   "cell_type": "code",
   "execution_count": 12,
   "metadata": {
    "collapsed": true
   },
   "outputs": [],
   "source": [
    "df = pd.read_csv(\"mclean_county_data.csv\")"
   ]
  },
  {
   "cell_type": "code",
   "execution_count": 14,
   "metadata": {
    "collapsed": false
   },
   "outputs": [],
   "source": [
    "df['lat_long'] = df.geo_loc.map(geocode)"
   ]
  },
  {
   "cell_type": "code",
   "execution_count": 15,
   "metadata": {
    "collapsed": true
   },
   "outputs": [],
   "source": [
    "df.to_csv('mclean_county_data_with_geocode.csv')"
   ]
  },
  {
   "cell_type": "code",
   "execution_count": null,
   "metadata": {
    "collapsed": true
   },
   "outputs": [],
   "source": []
  }
 ],
 "metadata": {
  "kernelspec": {
   "display_name": "Python 2",
   "language": "python",
   "name": "python2"
  },
  "language_info": {
   "codemirror_mode": {
    "name": "ipython",
    "version": 2
   },
   "file_extension": ".py",
   "mimetype": "text/x-python",
   "name": "python",
   "nbconvert_exporter": "python",
   "pygments_lexer": "ipython2",
   "version": "2.7.10"
  }
 },
 "nbformat": 4,
 "nbformat_minor": 0
}
