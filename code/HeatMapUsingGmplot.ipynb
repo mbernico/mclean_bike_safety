{
 "cells": [
  {
   "cell_type": "code",
   "execution_count": 2,
   "metadata": {
    "collapsed": false
   },
   "outputs": [],
   "source": [
    "from gmplot import gmplot\n",
    "import pandas as pd\n",
    "\n",
    "#makes heatmaps using google with https://github.com/vgm64/gmplot\n",
    "#gmap.plot(latitudes, longitudes, 'cornflowerblue', edge_width=10)\n",
    "#gmap.scatter(more_lats, more_lngs, '#3B0B39', size=40, marker=False)\n",
    "#gmap.scatter(marker_lats, marker_lngs, 'k', marker=True)\n",
    "#gmap.heatmap(heat_lats, heat_lngs)"
   ]
  },
  {
   "cell_type": "code",
   "execution_count": 3,
   "metadata": {
    "collapsed": true
   },
   "outputs": [],
   "source": [
    "def split_lat_long(x):\n",
    "    x = x.strip(\"[,]\")\n",
    "    lat, long = x.split(\",\")\n",
    "    return pd.Series({\"lat\":lat, \"long\":long})\n",
    "    "
   ]
  },
  {
   "cell_type": "code",
   "execution_count": 4,
   "metadata": {
    "collapsed": true
   },
   "outputs": [],
   "source": [
    "normal_df = pd.read_csv(\"../data/derived/normal_il_geocoded.csv\")\n",
    "bloomington_df = pd.read_csv(\"../data/derived/bloomington_il_geocoded.csv\")\n",
    "df = pd.concat([normal_df, bloomington_df], axis=0)\n",
    "df.date = pd.to_datetime(df.date)"
   ]
  },
  {
   "cell_type": "code",
   "execution_count": 5,
   "metadata": {
    "collapsed": true
   },
   "outputs": [],
   "source": [
    "#split lat and long out into columns for heatmap\n",
    "df = df.merge(df.lat_long.apply(split_lat_long),  left_index=True, right_index=True)"
   ]
  },
  {
   "cell_type": "code",
   "execution_count": 6,
   "metadata": {
    "collapsed": false
   },
   "outputs": [],
   "source": [
    "gmap = gmplot.GoogleMapPlotter(40.4869355,-89.0027133,13)\n",
    "gmap.heatmap(df.lat.astype(float).tolist(), df.long.astype(float).tolist(),\n",
    "            threshold=10, radius=20, gradient=None, opacity=0.6, dissipating=True)\n",
    "gmap.draw(\"../report_2017/graphics/heatmap/heatmap_total.html\")"
   ]
  },
  {
   "cell_type": "code",
   "execution_count": 7,
   "metadata": {
    "collapsed": false
   },
   "outputs": [],
   "source": [
    "\n",
    "df2= df[df['date'] >= '2015-06-30']"
   ]
  },
  {
   "cell_type": "code",
   "execution_count": 8,
   "metadata": {
    "collapsed": false,
    "scrolled": true
   },
   "outputs": [],
   "source": [
    "gmap = gmplot.GoogleMapPlotter(40.4869355,-89.0027133,13)\n",
    "gmap.heatmap(df2.lat.astype(float).tolist(), df2.long.astype(float).tolist(),\n",
    "            threshold=10, radius=20, gradient=None, opacity=0.6, dissipating=True)\n",
    "gmap.draw(\"../report_2017/graphics/heatmap/heatmap_report2017.html\")"
   ]
  },
  {
   "cell_type": "code",
   "execution_count": 9,
   "metadata": {
    "collapsed": false
   },
   "outputs": [],
   "source": [
    "df3= df[df['date'] < '2015-06-30']"
   ]
  },
  {
   "cell_type": "code",
   "execution_count": 11,
   "metadata": {
    "collapsed": true
   },
   "outputs": [],
   "source": [
    "gmap = gmplot.GoogleMapPlotter(40.4869355,-89.0027133,13)\n",
    "gmap.heatmap(df3.lat.astype(float).tolist(), df3.long.astype(float).tolist(),\n",
    "            threshold=10, radius=20, gradient=None, opacity=0.6, dissipating=True)\n",
    "gmap.draw(\"../report_2017/graphics/heatmap/heatmap_report2015.html\")"
   ]
  },
  {
   "cell_type": "code",
   "execution_count": null,
   "metadata": {
    "collapsed": true
   },
   "outputs": [],
   "source": []
  }
 ],
 "metadata": {
  "kernelspec": {
   "display_name": "Python 3",
   "language": "python",
   "name": "python3"
  },
  "language_info": {
   "codemirror_mode": {
    "name": "ipython",
    "version": 3
   },
   "file_extension": ".py",
   "mimetype": "text/x-python",
   "name": "python",
   "nbconvert_exporter": "python",
   "pygments_lexer": "ipython3",
   "version": "3.5.1"
  }
 },
 "nbformat": 4,
 "nbformat_minor": 0
}
