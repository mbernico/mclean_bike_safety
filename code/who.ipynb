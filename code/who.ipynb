{
 "cells": [
  {
   "cell_type": "code",
   "execution_count": 120,
   "metadata": {
    "collapsed": true
   },
   "outputs": [],
   "source": [
    "import pandas as pd\n",
    "import seaborn as sns\n",
    "from matplotlib import pyplot as plt\n",
    "from matplotlib import style\n",
    "%matplotlib inline"
   ]
  },
  {
   "cell_type": "code",
   "execution_count": 121,
   "metadata": {
    "collapsed": false
   },
   "outputs": [],
   "source": [
    "style.use('fivethirtyeight')"
   ]
  },
  {
   "cell_type": "code",
   "execution_count": 122,
   "metadata": {
    "collapsed": true
   },
   "outputs": [],
   "source": [
    "df = pd.read_csv(\"../data/derived/complete_dataset.csv\", parse_dates=['crash_time'])"
   ]
  },
  {
   "cell_type": "code",
   "execution_count": 123,
   "metadata": {
    "collapsed": false
   },
   "outputs": [
    {
     "data": {
      "text/plain": [
       "(98, 27)"
      ]
     },
     "execution_count": 123,
     "metadata": {},
     "output_type": "execute_result"
    }
   ],
   "source": [
    "df.shape"
   ]
  },
  {
   "cell_type": "code",
   "execution_count": 124,
   "metadata": {
    "collapsed": false
   },
   "outputs": [
    {
     "data": {
      "text/plain": [
       "Index(['id', 'fault', 'motorist_name', 'motorist_sex', 'insured', 'veh_make',\n",
       "       'veh_model', 'veh_year', 'cyclist_name', 'cyclist_sex', 'bike',\n",
       "       'geo_loc', 'location_car', 'location_bike', 'arrest', 'officer_id',\n",
       "       'm_citation', 'm_section', 'c_citation', 'c_section', 'hospital',\n",
       "       'cyclist_cat', 'summary', 'data_source', 'crash_time', 'lat', 'long'],\n",
       "      dtype='object')"
      ]
     },
     "execution_count": 124,
     "metadata": {},
     "output_type": "execute_result"
    }
   ],
   "source": [
    "df.columns"
   ]
  },
  {
   "cell_type": "code",
   "execution_count": 125,
   "metadata": {
    "collapsed": false
   },
   "outputs": [
    {
     "data": {
      "text/plain": [
       "(98, 27)"
      ]
     },
     "execution_count": 125,
     "metadata": {},
     "output_type": "execute_result"
    }
   ],
   "source": [
    "df.shape"
   ]
  },
  {
   "cell_type": "code",
   "execution_count": 126,
   "metadata": {
    "collapsed": false
   },
   "outputs": [],
   "source": [
    "df.cyclist_sex = df.cyclist_sex.apply(lambda x: x.lower())"
   ]
  },
  {
   "cell_type": "code",
   "execution_count": 127,
   "metadata": {
    "collapsed": false
   },
   "outputs": [
    {
     "data": {
      "text/plain": [
       "m           81\n",
       "f           14\n",
       "unknown      2\n",
       "redacted     1\n",
       "Name: cyclist_sex, dtype: int64"
      ]
     },
     "execution_count": 127,
     "metadata": {},
     "output_type": "execute_result"
    }
   ],
   "source": [
    "df.cyclist_sex.value_counts()"
   ]
  },
  {
   "cell_type": "code",
   "execution_count": 128,
   "metadata": {
    "collapsed": false
   },
   "outputs": [
    {
     "data": {
      "text/plain": [
       "0.8526315789473684"
      ]
     },
     "execution_count": 128,
     "metadata": {},
     "output_type": "execute_result"
    }
   ],
   "source": [
    "# % male\n",
    "81 / (81 + 14)"
   ]
  },
  {
   "cell_type": "code",
   "execution_count": 129,
   "metadata": {
    "collapsed": true
   },
   "outputs": [],
   "source": [
    "# three foot rule?  11-703"
   ]
  },
  {
   "cell_type": "code",
   "execution_count": 130,
   "metadata": {
    "collapsed": false
   },
   "outputs": [
    {
     "data": {
      "text/plain": [
       "11-904       5\n",
       "11-906       3\n",
       "11-903       3\n",
       "11-601A      2\n",
       "11-601(a)    2\n",
       "11-1008      2\n",
       "11-1002      2\n",
       "11-703       1\n",
       "11-403       1\n",
       "11-1205      1\n",
       "11-401       1\n",
       "11-901       1\n",
       "11-1003.1    1\n",
       "11-1204B     1\n",
       "11-709       1\n",
       "11-901(c)    1\n",
       "11-703(D)    1\n",
       "11-902       1\n",
       "5/6-303      1\n",
       "Name: m_section, dtype: int64"
      ]
     },
     "execution_count": 130,
     "metadata": {},
     "output_type": "execute_result"
    }
   ],
   "source": [
    "df.m_section.value_counts()"
   ]
  },
  {
   "cell_type": "markdown",
   "metadata": {},
   "source": [
    "## who gets the citation"
   ]
  },
  {
   "cell_type": "code",
   "execution_count": 131,
   "metadata": {
    "collapsed": false
   },
   "outputs": [],
   "source": [
    "motorist_ticket = df[(-df.m_section.isnull()) & (df.c_section.isnull())].shape[0] / df.shape[0]"
   ]
  },
  {
   "cell_type": "code",
   "execution_count": 132,
   "metadata": {
    "collapsed": false
   },
   "outputs": [],
   "source": [
    "# cyclist gets ticket\n",
    "cyclist_ticket = df[(df.m_section.isnull()) & (-df.c_section.isnull())].shape[0] / df.shape[0]"
   ]
  },
  {
   "cell_type": "code",
   "execution_count": 133,
   "metadata": {
    "collapsed": false
   },
   "outputs": [],
   "source": [
    "# nobody gets ticket\n",
    "no_ticket = df[(df.m_section.isnull()) & (df.c_section.isnull())].shape[0] / df.shape[0]"
   ]
  },
  {
   "cell_type": "code",
   "execution_count": 134,
   "metadata": {
    "collapsed": false
   },
   "outputs": [],
   "source": [
    "#both get ticket\n",
    "both_ticket = df[(-df.m_section.isnull()) & (-df.c_section.isnull())].shape[0] / df.shape[0]"
   ]
  },
  {
   "cell_type": "code",
   "execution_count": 135,
   "metadata": {
    "collapsed": false
   },
   "outputs": [],
   "source": [
    "fault = pd.Series({\"Cyclist\": cyclist_ticket, \"Motorist\": motorist_ticket, \"Neither\": no_ticket, \"Both\":both_ticket})"
   ]
  },
  {
   "cell_type": "code",
   "execution_count": 136,
   "metadata": {
    "collapsed": false
   },
   "outputs": [],
   "source": [
    "fault = fault.sort_values(ascending=False)"
   ]
  },
  {
   "cell_type": "code",
   "execution_count": 137,
   "metadata": {
    "collapsed": false
   },
   "outputs": [
    {
     "data": {
      "text/plain": [
       "<matplotlib.axes._subplots.AxesSubplot at 0x7fec425d2358>"
      ]
     },
     "execution_count": 137,
     "metadata": {},
     "output_type": "execute_result"
    },
    {
     "data": {
      "image/png": "[encoded data removed]",
      "text/plain": [
       "<matplotlib.figure.Figure at 0x7fec425cf828>"
      ]
     },
     "metadata": {},
     "output_type": "display_data"
    }
   ],
   "source": [
    "fault.plot(kind='bar', rot=45, title=\"Who receives the citation?\")"
   ]
  },
  {
   "cell_type": "code",
   "execution_count": 138,
   "metadata": {
    "collapsed": false
   },
   "outputs": [
    {
     "data": {
      "text/plain": [
       "Neither     0.489796\n",
       "Motorist    0.285714\n",
       "Cyclist     0.193878\n",
       "Both        0.030612\n",
       "dtype: float64"
      ]
     },
     "execution_count": 138,
     "metadata": {},
     "output_type": "execute_result"
    }
   ],
   "source": [
    "fault"
   ]
  },
  {
   "cell_type": "markdown",
   "metadata": {},
   "source": [
    "## Citations in Bloomington Vs. Normal"
   ]
  },
  {
   "cell_type": "code",
   "execution_count": 139,
   "metadata": {
    "collapsed": false
   },
   "outputs": [],
   "source": [
    "blm_motorist_ticket = df[(-df.m_section.isnull()) & (df.c_section.isnull()) & (df.data_source == 'bloomington')].shape[0] \n",
    "blm_cyclist_ticket = df[(df.m_section.isnull()) & (-df.c_section.isnull()) & (df.data_source == 'bloomington')].shape[0] \n",
    "blm_no_ticket = df[(df.m_section.isnull()) & (df.c_section.isnull()) & (df.data_source == 'bloomington')].shape[0]\n",
    "blm_both_ticket = df[(-df.m_section.isnull()) & (-df.c_section.isnull()) & (df.data_source == 'bloomington')].shape[0] "
   ]
  },
  {
   "cell_type": "code",
   "execution_count": 140,
   "metadata": {
    "collapsed": true
   },
   "outputs": [],
   "source": [
    "norm_motorist_ticket = df[(-df.m_section.isnull()) & (df.c_section.isnull()) & (df.data_source == 'normal')].shape[0] \n",
    "norm_cyclist_ticket = df[(df.m_section.isnull()) & (-df.c_section.isnull()) & (df.data_source == 'normal')].shape[0] \n",
    "norm_no_ticket = df[(df.m_section.isnull()) & (df.c_section.isnull()) & (df.data_source == 'normal')].shape[0] \n",
    "norm_both_ticket = df[(-df.m_section.isnull()) & (-df.c_section.isnull()) & (df.data_source == 'normal')].shape[0] "
   ]
  },
  {
   "cell_type": "code",
   "execution_count": 141,
   "metadata": {
    "collapsed": true
   },
   "outputs": [],
   "source": [
    "blm_count = df[df.data_source == 'bloomington'].shape[0]\n",
    "norm_count = df[df.data_source == 'normal'].shape[0]"
   ]
  },
  {
   "cell_type": "code",
   "execution_count": 142,
   "metadata": {
    "collapsed": false
   },
   "outputs": [],
   "source": [
    "# percent motorists recieving citation in bloomington vs. normal\n",
    "blm_mot_cit = blm_motorist_ticket / blm_count\n",
    "norm_mot_cit = norm_motorist_ticket / norm_count\n",
    "# percent cyclists recieving citation in bloomington vs. normal\n",
    "blm_cyc_cit = blm_cyclist_ticket / blm_count\n",
    "norm_cyc_cit = norm_cyclist_ticket / norm_count\n",
    "# percent none in bloomington vs normal\n",
    "blm_none_cit = blm_no_ticket / blm_count\n",
    "norm_none_cit = norm_no_ticket / norm_count\n",
    "# percent both in bloomington vs normal\n",
    "blm_both_cit = blm_both_ticket / blm_count\n",
    "norm_both_cit = norm_both_ticket / norm_count"
   ]
  },
  {
   "cell_type": "code",
   "execution_count": 143,
   "metadata": {
    "collapsed": false
   },
   "outputs": [],
   "source": [
    "citation_by_city = pd.Series({\"Bloomington Motorists\": blm_cyc_cit, \"Normal Motorists\": norm_mot_cit, \n",
    "           \"Bloomington Cyclists\":blm_cyc_cit, \"Normal Cyclists\": norm_cyc_cit, \n",
    "            \"Bloomington Both\": blm_both_cit, \"Normal Both\": norm_both_cit, \n",
    "            \"Bloomington Neither\": blm_none_cit, \"Normal Neither\": norm_none_cit})"
   ]
  },
  {
   "cell_type": "code",
   "execution_count": 144,
   "metadata": {
    "collapsed": false
   },
   "outputs": [
    {
     "data": {
      "text/plain": [
       "Bloomington Both         0.043478\n",
       "Bloomington Cyclists     0.260870\n",
       "Bloomington Motorists    0.260870\n",
       "Bloomington Neither      0.586957\n",
       "Normal Both              0.020408\n",
       "Normal Cyclists          0.142857\n",
       "Normal Motorists         0.408163\n",
       "Normal Neither           0.428571\n",
       "dtype: float64"
      ]
     },
     "execution_count": 144,
     "metadata": {},
     "output_type": "execute_result"
    }
   ],
   "source": [
    "citation_by_city"
   ]
  },
  {
   "cell_type": "code",
   "execution_count": 145,
   "metadata": {
    "collapsed": false
   },
   "outputs": [
    {
     "data": {
      "text/plain": [
       "<matplotlib.axes._subplots.AxesSubplot at 0x7fec425a3eb8>"
      ]
     },
     "execution_count": 145,
     "metadata": {},
     "output_type": "execute_result"
    },
    {
     "data": {
      "image/png": "[encoded data removed]",
      "text/plain": [
       "<matplotlib.figure.Figure at 0x7fec425e58d0>"
      ]
     },
     "metadata": {},
     "output_type": "display_data"
    }
   ],
   "source": [
    "citation_by_city[['Bloomington Cyclists', 'Normal Cyclists']].plot(kind='bar')"
   ]
  },
  {
   "cell_type": "code",
   "execution_count": 146,
   "metadata": {
    "collapsed": false
   },
   "outputs": [
    {
     "data": {
      "text/plain": [
       "<matplotlib.axes._subplots.AxesSubplot at 0x7fec4255bdd8>"
      ]
     },
     "execution_count": 146,
     "metadata": {},
     "output_type": "execute_result"
    },
    {
     "data": {
      "image/png": "[encoded data removed]",
      "text/plain": [
       "<matplotlib.figure.Figure at 0x7fec425195f8>"
      ]
     },
     "metadata": {},
     "output_type": "display_data"
    }
   ],
   "source": [
    "citation_by_city[['Bloomington Motorists', 'Normal Motorists']].plot(kind='bar')"
   ]
  },
  {
   "cell_type": "code",
   "execution_count": 147,
   "metadata": {
    "collapsed": false
   },
   "outputs": [
    {
     "data": {
      "text/plain": [
       "<matplotlib.axes._subplots.AxesSubplot at 0x7fec42c992b0>"
      ]
     },
     "execution_count": 147,
     "metadata": {},
     "output_type": "execute_result"
    },
    {
     "data": {
      "image/png": "[encoded data removed]",
      "text/plain": [
       "<matplotlib.figure.Figure at 0x7fec424e31d0>"
      ]
     },
     "metadata": {},
     "output_type": "display_data"
    }
   ],
   "source": [
    "citation_by_city[['Bloomington Both', 'Normal Both']].plot(kind='bar')"
   ]
  },
  {
   "cell_type": "code",
   "execution_count": 148,
   "metadata": {
    "collapsed": false
   },
   "outputs": [
    {
     "data": {
      "text/plain": [
       "<matplotlib.axes._subplots.AxesSubplot at 0x7fec4248cd30>"
      ]
     },
     "execution_count": 148,
     "metadata": {},
     "output_type": "execute_result"
    },
    {
     "data": {
      "image/png": "[encoded data removed]",
      "text/plain": [
       "<matplotlib.figure.Figure at 0x7fec42447fd0>"
      ]
     },
     "metadata": {},
     "output_type": "display_data"
    }
   ],
   "source": [
    "citation_by_city[['Bloomington Neither', 'Normal Neither']].plot(kind='bar')"
   ]
  },
  {
   "cell_type": "code",
   "execution_count": 160,
   "metadata": {
    "collapsed": false
   },
   "outputs": [
    {
     "data": {
      "text/plain": [
       "6"
      ]
     },
     "execution_count": 160,
     "metadata": {},
     "output_type": "execute_result"
    }
   ],
   "source": [
    "df[df.data_source=='bloomington'].m_section.value_counts().count()"
   ]
  },
  {
   "cell_type": "code",
   "execution_count": 159,
   "metadata": {
    "collapsed": false
   },
   "outputs": [
    {
     "data": {
      "text/plain": [
       "13"
      ]
     },
     "execution_count": 159,
     "metadata": {},
     "output_type": "execute_result"
    }
   ],
   "source": [
    "df[df.data_source=='normal'].m_section.value_counts().count()"
   ]
  },
  {
   "cell_type": "code",
   "execution_count": null,
   "metadata": {
    "collapsed": true
   },
   "outputs": [],
   "source": [
    "#6 different types in bloomington, 13 in normal"
   ]
  },
  {
   "cell_type": "code",
   "execution_count": 166,
   "metadata": {
    "collapsed": false
   },
   "outputs": [
    {
     "data": {
      "text/plain": [
       "11-904       2\n",
       "11-901       1\n",
       "11-401       1\n",
       "11-709       1\n",
       "5/6-303      1\n",
       "11-703(D)    1\n",
       "Name: m_section, dtype: int64"
      ]
     },
     "execution_count": 166,
     "metadata": {},
     "output_type": "execute_result"
    }
   ],
   "source": [
    "df[df.data_source=='bloomington'].m_section.value_counts()"
   ]
  },
  {
   "cell_type": "code",
   "execution_count": 167,
   "metadata": {
    "collapsed": false
   },
   "outputs": [
    {
     "data": {
      "text/plain": [
       "11-906       3\n",
       "11-903       3\n",
       "11-904       3\n",
       "11-1008      2\n",
       "11-1002      2\n",
       "11-1003.1    1\n",
       "11-601(a)    1\n",
       "11-902       1\n",
       "11-1204B     1\n",
       "11-901(c)    1\n",
       "11-601A      1\n",
       "11-1205      1\n",
       "11-403       1\n",
       "Name: m_section, dtype: int64"
      ]
     },
     "execution_count": 167,
     "metadata": {},
     "output_type": "execute_result"
    }
   ],
   "source": [
    "df[df.data_source=='normal'].m_section.value_counts()"
   ]
  },
  {
   "cell_type": "code",
   "execution_count": 168,
   "metadata": {
    "collapsed": false
   },
   "outputs": [
    {
     "data": {
      "text/plain": [
       "{'11-1002',\n",
       " '11-1003.1',\n",
       " '11-1008',\n",
       " '11-1204B',\n",
       " '11-1205',\n",
       " '11-403',\n",
       " '11-601(a)',\n",
       " '11-601A',\n",
       " '11-901(c)',\n",
       " '11-902',\n",
       " '11-903',\n",
       " '11-906'}"
      ]
     },
     "execution_count": 168,
     "metadata": {},
     "output_type": "execute_result"
    }
   ],
   "source": [
    "# which ticket types were written in normal, but were never written in bloomington, applied to motorists\n",
    "\n",
    "set(df[df.data_source=='normal'].m_section.values) - set(df[df.data_source=='bloomington'].m_section.values)"
   ]
  },
  {
   "cell_type": "code",
   "execution_count": null,
   "metadata": {
    "collapsed": true
   },
   "outputs": [],
   "source": [
    "#  interesting   11-901(c) is the same as 901.  "
   ]
  },
  {
   "cell_type": "code",
   "execution_count": 161,
   "metadata": {
    "collapsed": false
   },
   "outputs": [
    {
     "data": {
      "text/plain": [
       "12"
      ]
     },
     "execution_count": 161,
     "metadata": {},
     "output_type": "execute_result"
    }
   ],
   "source": [
    "df[df.data_source=='bloomington'].c_section.value_counts().count()"
   ]
  },
  {
   "cell_type": "code",
   "execution_count": 162,
   "metadata": {
    "collapsed": false
   },
   "outputs": [
    {
     "data": {
      "text/plain": [
       "7"
      ]
     },
     "execution_count": 162,
     "metadata": {},
     "output_type": "execute_result"
    }
   ],
   "source": [
    "df[df.data_source=='normal'].c_section.value_counts().count()"
   ]
  },
  {
   "cell_type": "code",
   "execution_count": 163,
   "metadata": {
    "collapsed": true
   },
   "outputs": [],
   "source": [
    "# cyclists 12 different violations in bloomington, 7 in normal"
   ]
  },
  {
   "cell_type": "code",
   "execution_count": 165,
   "metadata": {
    "collapsed": false
   },
   "outputs": [
    {
     "data": {
      "text/plain": [
       "{'11-1002',\n",
       " '11-1204',\n",
       " '11-1205',\n",
       " '11-1505',\n",
       " '11-1512',\n",
       " '11-305',\n",
       " '11-401',\n",
       " '11-709',\n",
       " '29/16/A',\n",
       " '5/11-1001'}"
      ]
     },
     "execution_count": 165,
     "metadata": {},
     "output_type": "execute_result"
    }
   ],
   "source": [
    "# which ticket types were written in bloomington applied to cyclists, but were never written in normal\n",
    "\n",
    "set(df[df.data_source=='bloomington'].c_section.values) - set(df[df.data_source=='normal'].c_section.values)"
   ]
  },
  {
   "cell_type": "markdown",
   "metadata": {},
   "source": [
    "# requires hospital"
   ]
  },
  {
   "cell_type": "code",
   "execution_count": 54,
   "metadata": {
    "collapsed": false
   },
   "outputs": [
    {
     "data": {
      "text/plain": [
       "refused     49\n",
       "bromenn     30\n",
       "osf         12\n",
       "na           2\n",
       "unknown      2\n",
       "hospital     1\n",
       "no           1\n",
       "n/a          1\n",
       "Name: hospital, dtype: int64"
      ]
     },
     "execution_count": 54,
     "metadata": {},
     "output_type": "execute_result"
    }
   ],
   "source": [
    "df.hospital.value_counts()"
   ]
  },
  {
   "cell_type": "code",
   "execution_count": 63,
   "metadata": {
    "collapsed": false
   },
   "outputs": [],
   "source": [
    "hospital = pd.Series({\"No\": 53/98, \"Yes\": 43/98, \"Unknown\": 2/98})\n",
    "hospital = hospital.sort_values(ascending=False)"
   ]
  },
  {
   "cell_type": "code",
   "execution_count": 64,
   "metadata": {
    "collapsed": false
   },
   "outputs": [
    {
     "data": {
      "text/plain": [
       "<matplotlib.axes._subplots.AxesSubplot at 0x7f528bf65898>"
      ]
     },
     "execution_count": 64,
     "metadata": {},
     "output_type": "execute_result"
    },
    {
     "data": {
      "image/png": "[encoded data removed]",
      "text/plain": [
       "<matplotlib.figure.Figure at 0x7f528c0baa58>"
      ]
     },
     "metadata": {},
     "output_type": "display_data"
    }
   ],
   "source": [
    "hospital.plot(kind='bar', rot=45, title=\"Required Emergency Medical Care\")"
   ]
  },
  {
   "cell_type": "code",
   "execution_count": 37,
   "metadata": {
    "collapsed": false
   },
   "outputs": [],
   "source": [
    "blm_hosp = df[(df.data_source=='bloomington') & (df.hospital.isin(['bromenn', 'osf', 'hospital'])) ].shape[0] / \\\n",
    "        df[df.data_source == 'bloomington'].shape[0]\n",
    "    \n",
    "norm_hosp = df[(df.data_source=='normal') & (df.hospital.isin(['bromenn', 'osf', 'hospital'])) ].shape[0] / \\\n",
    "        df[df.data_source == 'normal'].shape[0]"
   ]
  },
  {
   "cell_type": "code",
   "execution_count": 38,
   "metadata": {
    "collapsed": false
   },
   "outputs": [
    {
     "data": {
      "text/plain": [
       "0.5217391304347826"
      ]
     },
     "execution_count": 38,
     "metadata": {},
     "output_type": "execute_result"
    }
   ],
   "source": [
    "blm_hosp"
   ]
  },
  {
   "cell_type": "code",
   "execution_count": 39,
   "metadata": {
    "collapsed": false
   },
   "outputs": [
    {
     "data": {
      "text/plain": [
       "0.3469387755102041"
      ]
     },
     "execution_count": 39,
     "metadata": {},
     "output_type": "execute_result"
    }
   ],
   "source": [
    "norm_hosp"
   ]
  },
  {
   "cell_type": "code",
   "execution_count": 50,
   "metadata": {
    "collapsed": false
   },
   "outputs": [
    {
     "data": {
      "text/plain": [
       "0.5217391304347826"
      ]
     },
     "execution_count": 50,
     "metadata": {},
     "output_type": "execute_result"
    }
   ],
   "source": [
    "df[(df.data_source=='bloomington') & (df.fault=='cyclist')].shape[0] / df[df.data_source=='bloomington'].shape[0]"
   ]
  },
  {
   "cell_type": "code",
   "execution_count": 51,
   "metadata": {
    "collapsed": false
   },
   "outputs": [
    {
     "data": {
      "text/plain": [
       "0.20408163265306123"
      ]
     },
     "execution_count": 51,
     "metadata": {},
     "output_type": "execute_result"
    }
   ],
   "source": [
    "df[(df.data_source=='normal') & (df.fault=='cyclist')].shape[0] / df[df.data_source=='normal'].shape[0]"
   ]
  },
  {
   "cell_type": "code",
   "execution_count": 42,
   "metadata": {
    "collapsed": false
   },
   "outputs": [
    {
     "data": {
      "text/plain": [
       "motorist    26\n",
       "cyclist     10\n",
       "unknown      9\n",
       "both         3\n",
       "none         1\n",
       "Name: fault, dtype: int64"
      ]
     },
     "execution_count": 42,
     "metadata": {},
     "output_type": "execute_result"
    }
   ],
   "source": [
    "df[df.data_source=='normal'].fault.value_counts()"
   ]
  },
  {
   "cell_type": "code",
   "execution_count": null,
   "metadata": {
    "collapsed": true
   },
   "outputs": [],
   "source": []
  }
 ],
 "metadata": {
  "kernelspec": {
   "display_name": "Python 3",
   "language": "python",
   "name": "python3"
  },
  "language_info": {
   "codemirror_mode": {
    "name": "ipython",
    "version": 3
   },
   "file_extension": ".py",
   "mimetype": "text/x-python",
   "name": "python",
   "nbconvert_exporter": "python",
   "pygments_lexer": "ipython3",
   "version": "3.5.1"
  }
 },
 "nbformat": 4,
 "nbformat_minor": 0
}
