{
 "cells": [
  {
   "cell_type": "code",
   "execution_count": 67,
   "metadata": {
    "collapsed": false
   },
   "outputs": [],
   "source": [
    "import pandas as pd\n",
    "from matplotlib import pyplot as plt\n",
    "from matplotlib import style\n",
    "import seaborn as sns\n",
    "%matplotlib inline"
   ]
  },
  {
   "cell_type": "code",
   "execution_count": 68,
   "metadata": {
    "collapsed": false
   },
   "outputs": [],
   "source": [
    "style.use('fivethirtyeight')"
   ]
  },
  {
   "cell_type": "code",
   "execution_count": 69,
   "metadata": {
    "collapsed": false
   },
   "outputs": [],
   "source": [
    "df = pd.read_csv(\"../data/derived/complete_dataset.csv\")"
   ]
  },
  {
   "cell_type": "code",
   "execution_count": 51,
   "metadata": {
    "collapsed": false
   },
   "outputs": [],
   "source": [
    "#only streets in the city\n",
    "street_names = df[df.data_source != \"mclean\"].geo_loc\n"
   ]
  },
  {
   "cell_type": "code",
   "execution_count": 52,
   "metadata": {
    "collapsed": true
   },
   "outputs": [],
   "source": [
    "#remove stop words\n",
    "stopset = (\"bloomington,illinois\", \"normal,illinois\", \"street\", \"st.\", \"road\", \"ave\", \"avenue\",\n",
    "          \"n.\",\"e.\",\"w.\",\"s.\", \"st\",\"north\",\"south\",\"east\",\"west\")\n",
    "street_names = street_names.str.lower().str.split()    \n",
    "street_names = street_names.apply(lambda x: [item for item in x if item not in stopset])\n",
    "street_names = street_names.str.join(\" \")\n"
   ]
  },
  {
   "cell_type": "code",
   "execution_count": 53,
   "metadata": {
    "collapsed": false
   },
   "outputs": [],
   "source": [
    "#remove numbers\n",
    "street_names = street_names.str.replace('\\d+', '')"
   ]
  },
  {
   "cell_type": "code",
   "execution_count": 54,
   "metadata": {
    "collapsed": false
   },
   "outputs": [],
   "source": [
    "street_list = street_names.str.split(\" and \")"
   ]
  },
  {
   "cell_type": "code",
   "execution_count": 55,
   "metadata": {
    "collapsed": false
   },
   "outputs": [],
   "source": [
    "crash_counts = pd.concat([street_list.str[0],street_list.str[1]]).value_counts()"
   ]
  },
  {
   "cell_type": "code",
   "execution_count": 59,
   "metadata": {
    "collapsed": false
   },
   "outputs": [
    {
     "data": {
      "text/plain": [
       "<matplotlib.axes._subplots.AxesSubplot at 0x7f3e651cd198>"
      ]
     },
     "execution_count": 59,
     "metadata": {},
     "output_type": "execute_result"
    },
    {
     "data": {
      "image/png": "[encoded data removed]",
      "text/plain": [
       "<matplotlib.figure.Figure at 0x7f3e64e2c9e8>"
      ]
     },
     "metadata": {},
     "output_type": "display_data"
    }
   ],
   "source": [
    "crash_counts[:10].plot(kind='bar', title=\"Most Dangerous Streets For Bikes\", rot=45, fontsize=12, position=0, figsize=(6,4))"
   ]
  },
  {
   "cell_type": "code",
   "execution_count": 83,
   "metadata": {
    "collapsed": false
   },
   "outputs": [],
   "source": [
    "crash_counts.to_csv(\"../data/derived/crash_counts.csv\")"
   ]
  },
  {
   "cell_type": "code",
   "execution_count": 17,
   "metadata": {
    "collapsed": false
   },
   "outputs": [
    {
     "data": {
      "text/plain": [
       "['fivethirtyeight',\n",
       " 'seaborn-whitegrid',\n",
       " 'seaborn-poster',\n",
       " 'seaborn-paper',\n",
       " 'seaborn-notebook',\n",
       " 'seaborn-deep',\n",
       " 'seaborn-dark',\n",
       " 'seaborn-muted',\n",
       " 'seaborn-dark-palette',\n",
       " 'grayscale',\n",
       " 'seaborn-colorblind',\n",
       " 'seaborn-bright',\n",
       " 'seaborn-pastel',\n",
       " 'bmh',\n",
       " 'seaborn-darkgrid',\n",
       " 'seaborn-white',\n",
       " 'seaborn-talk',\n",
       " 'seaborn-ticks',\n",
       " 'ggplot',\n",
       " 'dark_background',\n",
       " 'classic']"
      ]
     },
     "execution_count": 17,
     "metadata": {},
     "output_type": "execute_result"
    }
   ],
   "source": [
    "style.available"
   ]
  },
  {
   "cell_type": "code",
   "execution_count": 70,
   "metadata": {
    "collapsed": false
   },
   "outputs": [
    {
     "data": {
      "text/plain": [
       "'2014-03-26 17:18:00'"
      ]
     },
     "execution_count": 70,
     "metadata": {},
     "output_type": "execute_result"
    }
   ],
   "source": [
    "df.crash_time.min()"
   ]
  },
  {
   "cell_type": "code",
   "execution_count": 71,
   "metadata": {
    "collapsed": false
   },
   "outputs": [
    {
     "data": {
      "text/html": [
       "<div>\n",
       "<table border=\"1\" class=\"dataframe\">\n",
       "  <thead>\n",
       "    <tr style=\"text-align: right;\">\n",
       "      <th></th>\n",
       "      <th>id</th>\n",
       "      <th>fault</th>\n",
       "      <th>motorist_name</th>\n",
       "      <th>motorist_sex</th>\n",
       "      <th>insured</th>\n",
       "      <th>veh_make</th>\n",
       "      <th>veh_model</th>\n",
       "      <th>veh_year</th>\n",
       "      <th>cyclist_name</th>\n",
       "      <th>cyclist_sex</th>\n",
       "      <th>...</th>\n",
       "      <th>m_section</th>\n",
       "      <th>c_citation</th>\n",
       "      <th>c_section</th>\n",
       "      <th>hospital</th>\n",
       "      <th>cyclist_cat</th>\n",
       "      <th>summary</th>\n",
       "      <th>data_source</th>\n",
       "      <th>crash_time</th>\n",
       "      <th>lat</th>\n",
       "      <th>long</th>\n",
       "    </tr>\n",
       "  </thead>\n",
       "  <tbody>\n",
       "  </tbody>\n",
       "</table>\n",
       "<p>0 rows × 27 columns</p>\n",
       "</div>"
      ],
      "text/plain": [
       "Empty DataFrame\n",
       "Columns: [id, fault, motorist_name, motorist_sex, insured, veh_make, veh_model, veh_year, cyclist_name, cyclist_sex, bike, geo_loc, location_car, location_bike, arrest, officer_id, m_citation, m_section, c_citation, c_section, hospital, cyclist_cat, summary, data_source, crash_time, lat, long]\n",
       "Index: []\n",
       "\n",
       "[0 rows x 27 columns]"
      ]
     },
     "execution_count": 71,
     "metadata": {},
     "output_type": "execute_result"
    }
   ],
   "source": [
    "df[df.crash_time < '2014-01-01']"
   ]
  },
  {
   "cell_type": "code",
   "execution_count": 63,
   "metadata": {
    "collapsed": false
   },
   "outputs": [
    {
     "data": {
      "text/plain": [
       "'2016-12-01 15:04:00'"
      ]
     },
     "execution_count": 63,
     "metadata": {},
     "output_type": "execute_result"
    }
   ],
   "source": [
    "df.crash_time.max()"
   ]
  },
  {
   "cell_type": "code",
   "execution_count": null,
   "metadata": {
    "collapsed": true
   },
   "outputs": [],
   "source": []
  }
 ],
 "metadata": {
  "kernelspec": {
   "display_name": "Python 3",
   "language": "python",
   "name": "python3"
  },
  "language_info": {
   "codemirror_mode": {
    "name": "ipython",
    "version": 3
   },
   "file_extension": ".py",
   "mimetype": "text/x-python",
   "name": "python",
   "nbconvert_exporter": "python",
   "pygments_lexer": "ipython3",
   "version": "3.5.1"
  }
 },
 "nbformat": 4,
 "nbformat_minor": 0
}
